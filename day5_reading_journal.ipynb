{
 "cells": [
  {
   "cell_type": "markdown",
   "metadata": {},
   "source": [
    "# Day 5 Reading Journal\n",
    "\n",
    "This journal includes several required exercises, but it is meant to encourage active reading more generally.  You should use the journal to take detailed notes, catalog questions, and explore the content from Think Python deeply.\n",
    "\n",
    "Reading: Think Python Chapter 4\n",
    "\n",
    "**Due: Monday, February 8 at 12 noon**\n",
    "\n"
   ]
  },
  {
   "cell_type": "markdown",
   "metadata": {},
   "source": [
    "## [Chapter 4](http://www.greenteapress.com/thinkpython/html/thinkpython005.html)\n",
    "\n",
    "In today's reading, you'll be exploring TurtleWorld!\n",
    "TurtleWorld is part of the [swampy](http://www.greenteapress.com/thinkpython/swampy/) package, written by Allen Downey.\n",
    "As part of the [Get Set](https://sites.google.com/site/sd16spring/home/assignments-and-mini-projects/setup-your-environment) assignment, you installed the swampy package using the pip Python package management tool. If you somehow missed that step or you see errors when you try to import TurtleWorld, you can install swampy by running:\n",
    "\n",
    "```\n",
    "sudo pip install swampy\n",
    "```\n",
    "\n",
    "at the command line.\n",
    "\n",
    "### Turtle wrangling\n",
    "\n",
    "You can always run your code as separate Python scripts, but here are a few tips for mixing TurtleWorld with Jupyter notebook:\n",
    "\n",
    " - TurtleWorld will appear in a new GUI window, rather than inline in the notebook like typical results do\n",
    " - You will not be able to close the TurtleWorld window unless you run `wait_for_user()` as the last line of your code.\n",
    " - Jupyter notebook works like one big Python script, even though it is broken up into sections. This means that you could create a Turtle in one cell, move it in a later cell, and then `wait_for_user()` in yet another. Despite this, it might be easier to treat each cell in this assignment as a separate script, creating a new world at the beginning and destroying it at the end of each."
   ]
  },
  {
   "cell_type": "markdown",
   "metadata": {},
   "source": [
    "### Get started\n",
    "\n",
    "Run the code in the cell below and make sure everything works. You should see brave Alice spring into the world and run forward. You can close the window when you're done by clicking on the 'X'. If this simple test doesn't work, check your swampy install (especially if you get an `ImportError`) and ask for help."
   ]
  },
  {
   "cell_type": "code",
   "execution_count": 35,
   "metadata": {
    "collapsed": true
   },
   "outputs": [],
   "source": [
    "from swampy.TurtleWorld import *\n",
    "\n",
    "# Create the world, and a turtle to put in it\n",
    "world = TurtleWorld()\n",
    "bob = Turtle()\n",
    "\n",
    "# Get moving, turtle!\n",
    "fd(alice, 50)\n",
    "\n",
    "# Wait for the user to close the window\n",
    "wait_for_user()\n",
    "\n",
    "#codeworks!"
   ]
  },
  {
   "cell_type": "code",
   "execution_count": 31,
   "metadata": {
    "collapsed": false
   },
   "outputs": [
    {
     "name": "stdout",
     "output_type": "stream",
     "text": [
      "<swampy.TurtleWorld.Turtle object at 0x7fa8bc305510>\n"
     ]
    }
   ],
   "source": [
    "from swampy.TurtleWorld import *\n",
    "world = TurtleWorld()\n",
    "bob = Turtle()\n",
    "\n",
    "def mypolygon():\n",
    "    print bob   \n",
    "    \n",
    "mypolygon()\n",
    "fd(bob, 100)\n",
    "lt(bob)\n",
    "fd(bob, 100)\n",
    "wait_for_user()"
   ]
  },
  {
   "cell_type": "markdown",
   "metadata": {
    "is_question": true,
    "problem": "Section 4.3"
   },
   "source": [
    "### Section 4.3 exercises\n",
    "Work through exercises 1-5 in Section 4.3, creating the `square`, `polygon`, `circle`, and `arc` functions. You can reference Allen's solutions, but please try the problems on your own first."
   ]
  },
  {
   "cell_type": "code",
   "execution_count": 2,
   "metadata": {
    "collapsed": false,
    "solution": "Section 4.3"
   },
   "outputs": [],
   "source": [
    "#My original attempt:\n",
    "from swampy.TurtleWorld import *\n",
    "from math import pi\n",
    "world = TurtleWorld()\n",
    "bob = Turtle()\n",
    "\n",
    "def polygon(t, length, n):\n",
    "    incrementing = n\n",
    "    while incrementing > 0:\n",
    "        fd(t, length)\n",
    "        lt(t, 360/n)\n",
    "        incrementing -= 1\n",
    "\n",
    "#polygon(bob, 100, 4) \n",
    "\n",
    "def circle(t, r, angle):\n",
    "    bob.delay = .01\n",
    "    circumference = 2 * pi * r\n",
    "    length = circumference\n",
    "#    polygon(t, length/360, 270)\n",
    "#    polygon(t, length/360, 360)\n",
    "    polygon(t, length/360, angle) #Figure out why this doesn't work for angles <180 deg\n",
    "\n",
    "circle(bob, 50, 181)\n",
    "circle(bob, 50, 180)\n",
    "circle(bob, 50, 90)"
   ]
  },
  {
   "cell_type": "code",
   "execution_count": 9,
   "metadata": {
    "collapsed": false
   },
   "outputs": [],
   "source": [
    "#Solutions I now understand:\n",
    "from swampy.TurtleWorld import *\n",
    "from math import pi\n",
    "world = TurtleWorld()\n",
    "bob = Turtle()\n",
    "\n",
    "def square(t):\n",
    "    for i in range(4):\n",
    "        fd(t, 100)\n",
    "        lt(t)\n",
    "def polygon(t, n, length):\n",
    "    angle = 360.0/n #remember floating-point division!\n",
    "    for i in range(n):\n",
    "        fd(t, length)\n",
    "        lt(t, angle)\n",
    "\n",
    "def circle(t, r):\n",
    "    t.delay = 0.01\n",
    "    circumference = 2 * pi * r\n",
    "    n = 360 #for each degree\n",
    "    length = circumference/n\n",
    "    polygon(t, n, length)\n",
    "\n",
    "def arc(t, r, angle):\n",
    "    t.delay = 0.01\n",
    "    arc_length = 2 * pi * r * (angle/360.0)\n",
    "    n = int(arc_length / 3) + 1\n",
    "    step_length = arc_length/angle\n",
    "    step_angle = 1\n",
    "    \n",
    "    for i in range(angle):\n",
    "        fd(t, step_length)\n",
    "        lt(t, step_angle)\n",
    "#square(bob)\n",
    "#arc(bob, 100, 180)\n",
    "\n",
    "#refactoring!\n",
    "def polyline(t, n, length, angle):\n",
    "    for i in range(n):\n",
    "        fd(t, length)\n",
    "        lt(t, angle)\n",
    "        \n",
    "def polygon2(t, n, length):\n",
    "    angle = 360.0 / n\n",
    "    polyline(t, n, length, angle)\n",
    "    \n",
    "def arc2(t, r, angle):\n",
    "    t.delay = 0.01\n",
    "    arc_length = 2 * pi * r * (angle/360.0)\n",
    "    step_length = arc_length/angle\n",
    "    step_angle = float(angle)/angle #in degrees, one at a time\n",
    "    polyline(t, angle, step_length, step_angle)\n",
    "    \n",
    "def circle2(t, r):\n",
    "    arc(t, r, 360)\n",
    "    \n",
    "    \n",
    "arc2(bob, 100, 270)\n",
    "arc2(bob, 100, 90)\n"
   ]
  },
  {
   "cell_type": "markdown",
   "metadata": {
    "is_question": true,
    "problem": "More fun"
   },
   "source": [
    "### Exercise: More fun with Turtles!\n",
    "Complete at least one of Exercise 2, 3, 4, or 5. If you come up with some cool drawings you'd like to share with the rest of the class, let us know!"
   ]
  },
  {
   "cell_type": "code",
   "execution_count": 82,
   "metadata": {
    "collapsed": false,
    "solution": "More fun"
   },
   "outputs": [],
   "source": [
    "from swampy.TurtleWorld import *\n",
    "import math\n",
    "world = TurtleWorld()\n",
    "bob = Turtle()\n",
    "\n",
    "\n",
    "def turtle_pies_5(t, n, length):\n",
    "\n",
    "    angle1 = 360.0/n #72\n",
    "    angle2 = 180 - angle1\n",
    "    \n",
    "    for i in range(n - 1):\n",
    "        lt(t, angle1)\n",
    "        fd(t, length)\n",
    "        pu(t)\n",
    "        bk(t, length)\n",
    "        pd(t)\n",
    "    lt(t, angle1)\n",
    "    fd(t, length)\n",
    "    lt(t, angle2)\n",
    "    \n",
    "    polygon(t, n, length)\n",
    "\n",
    "turtle_pies_5(bob, 5, 50)"
   ]
  },
  {
   "cell_type": "code",
   "execution_count": null,
   "metadata": {
    "collapsed": false
   },
   "outputs": [],
   "source": [
    "#giving up, but wanting to see solution for comparison:\n",
    "from swampy.TurtleWorld import *\n",
    "import math\n",
    "\n",
    "def draw_pie(t, n, r):\n",
    "    \"\"\"Draws a pie, then moves into position to the right.\n",
    "\n",
    "    t: Turtle\n",
    "    n: number of segments\n",
    "    r: length of the radial spokes\n",
    "    \"\"\"\n",
    "    polypie(t, n, r)\n",
    "    pu(t)\n",
    "    fd(t, r*2 + 10)\n",
    "    pd(t)\n",
    "\n",
    "    \n",
    "def polypie(t, n, r):\n",
    "    \"\"\"Draws a pie divided into radial segments.\n",
    "\n",
    "    t: Turtle\n",
    "    n: number of segments\n",
    "    r: length of the radial spokes\n",
    "    \"\"\"\n",
    "    angle = 360.0 / n\n",
    "    for i in range(n):\n",
    "        isosceles(t, r, angle/2)\n",
    "        lt(t, angle)\n",
    "\n",
    "\n",
    "def isosceles(t, r, angle):\n",
    "    \"\"\"Draws an icosceles triangle.\n",
    "\n",
    "    The turtle starts and ends at the peak, facing the middle of the base.\n",
    "\n",
    "    t: Turtle\n",
    "    r: length of the equal legs\n",
    "    angle: peak angle in degrees\n",
    "    \"\"\"\n",
    "    y = r * math.sin(angle * math.pi / 180)\n",
    "\n",
    "    rt(t, angle)\n",
    "    fd(t, r)\n",
    "    lt(t, 90+angle)\n",
    "    fd(t, 2*y)\n",
    "    lt(t, 90+angle)\n",
    "    fd(t, r)\n",
    "    lt(t, 180-angle)\n",
    "\n",
    "\n",
    "# create the world and bob\n",
    "world = TurtleWorld()\n",
    "bob = Turtle()\n",
    "bob.delay = .1\n",
    "pu(bob)\n",
    "bk(bob, 130)\n",
    "pd(bob)\n",
    "\n",
    "# draw polypies with various number of sides\n",
    "size = 40\n",
    "draw_pie(bob, 5, size)\n",
    "draw_pie(bob, 6, size)\n",
    "draw_pie(bob, 7, size)\n",
    "draw_pie(bob, 8, size)\n",
    "die(bob)\n",
    "\n",
    "# dump the contents of the campus to the file canvas.eps\n",
    "world.canvas.dump()\n",
    "\n",
    "wait_for_user()"
   ]
  },
  {
   "cell_type": "markdown",
   "metadata": {},
   "source": [
    "## Reading Journal feedback\n",
    "\n",
    "Have any comments on this Reading Journal? Feel free to leave them below and we'll read them when you submit your journal entry. This could include suggestions to improve the exercises, topics you'd like to see covered in class next time, or other feedback.\n",
    "\n",
    "If you have Python questions or run into problems while completing the reading, you should post them to Piazza instead so you can get a quick response before your journal is submitted."
   ]
  },
  {
   "cell_type": "markdown",
   "metadata": {},
   "source": [
    " "
   ]
  }
 ],
 "metadata": {
  "kernelspec": {
   "display_name": "Python 2",
   "language": "python",
   "name": "python2"
  },
  "language_info": {
   "codemirror_mode": {
    "name": "ipython",
    "version": 2
   },
   "file_extension": ".py",
   "mimetype": "text/x-python",
   "name": "python",
   "nbconvert_exporter": "python",
   "pygments_lexer": "ipython2",
   "version": "2.7.6"
  }
 },
 "nbformat": 4,
 "nbformat_minor": 0
}
