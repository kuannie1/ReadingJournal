{
 "cells": [
  {
   "cell_type": "markdown",
   "metadata": {},
   "source": [
    "# Day 4 Reading Journal\n",
    "\n",
    "This journal includes several required exercises, but it is meant to encourage active reading more generally.  You should use the journal to take detailed notes, catalog questions, and explore the content from Think Python deeply.\n",
    "\n",
    "Reading: Think Python Chapter 10\n",
    "\n",
    "**Due: Thursday, February 4 at 12 noon**\n",
    "\n"
   ]
  },
  {
   "cell_type": "markdown",
   "metadata": {},
   "source": [
    "## [Chapter 10](http://www.greenteapress.com/thinkpython/html/thinkpython011.html)\n",
    "\n",
    "You may want to review [state diagrams in Chapter 2](http://www.greenteapress.com/thinkpython/html/thinkpython003.html#toc13). [Python Tutor](http://pythontutor.com/) is also helpful for visualizing the state of your program.\n",
    "\n",
    "Note: try to use more docstrings!!!\n"
   ]
  },
  {
   "cell_type": "markdown",
   "metadata": {},
   "source": [
    "### Exercise 4  \n",
    "Write a function called `middle` that takes a list and returns a new list that contains all but the first and last elements. So `middle([1,2,3,4])` should return `[2,3]`."
   ]
  },
  {
   "cell_type": "code",
   "execution_count": 9,
   "metadata": {
    "collapsed": false
   },
   "outputs": [
    {
     "name": "stdout",
     "output_type": "stream",
     "text": [
      "[2, 3]\n"
     ]
    }
   ],
   "source": [
    "#My solution\n",
    "new_list = []\n",
    "def middle(list):\n",
    "    new_list = list[1:-1]\n",
    "    return new_list\n",
    "    \n",
    "    \n",
    "print middle([1, 2, 3, 4])\n",
    "\n",
    "#note, using for loops make it easier to visualize what's going on--especially the incrementing part"
   ]
  },
  {
   "cell_type": "code",
   "execution_count": null,
   "metadata": {
    "collapsed": true
   },
   "outputs": [],
   "source": [
    "#Most common example for class:\n",
    "def middle(s):\n",
    "    return s[1:len(s)-1]\n",
    "\n",
    "middle([1,2,3,4,])\n"
   ]
  },
  {
   "cell_type": "code",
   "execution_count": null,
   "metadata": {
    "collapsed": true
   },
   "outputs": [],
   "source": [
    "#More cumbersome version, remember not to use \"list\" as a variable name:\n",
    "\n",
    "def middle(list):\n",
    "    new = []\n",
    "    for x in range(0, len(list)):\n",
    "        new.append(list[x])\n",
    "    new.remove(new[0])\n",
    "    new.remove(new[-1])\n",
    "    return new\n",
    "print middle([1,2,3,4])\n",
    "print middle([1,4,3,4])"
   ]
  },
  {
   "cell_type": "code",
   "execution_count": null,
   "metadata": {
    "collapsed": true
   },
   "outputs": [],
   "source": [
    "#Return the right file type!!!\n",
    "def middle (random_list):\n",
    "    new_list = []\n",
    "    for element in random_list:\n",
    "        new_list = [random_list[1:-1]]\n",
    "    return new_list\n",
    "\n",
    "middle([1,2,3,4])"
   ]
  },
  {
   "cell_type": "code",
   "execution_count": 23,
   "metadata": {
    "collapsed": false
   },
   "outputs": [],
   "source": [
    "#Another possible way:\n",
    "def middle(Input):\n",
    "    \"\"\"\n",
    "    Given a list, return a new list that contains all but the first & last elements\n",
    "    \n",
    "    >>> L = [1, 2, 3, 4, 5]\n",
    "    >>> print L\n",
    "    [1, 2, 3, 4, 5]\n",
    "    >>> print middle(L)\n",
    "    [2, 3, 4]\n",
    "    >>> print L\n",
    "    [1, 2, 3, 4, 5]\n",
    "    \"\"\"\n",
    "    if len(Input) > 1:\n",
    "        List = Input[:]\n",
    "        del List[0]\n",
    "        del List[-1]\n",
    "        return List\n",
    "    else:\n",
    "        \n",
    "        return \"List is too short.\"\n",
    "    \n",
    "import doctest\n",
    "doctest.run_docstring_examples(middle, globals(), verbose=False) #True displays attempts shown"
   ]
  },
  {
   "cell_type": "code",
   "execution_count": 25,
   "metadata": {
    "collapsed": false
   },
   "outputs": [
    {
     "name": "stdout",
     "output_type": "stream",
     "text": [
      "b\n"
     ]
    }
   ],
   "source": [
    "L = [[1, 3, 'a']]\n",
    "A = L[:]\n",
    "A[0][2] = 'b'\n",
    "print L[0][2]"
   ]
  },
  {
   "cell_type": "code",
   "execution_count": null,
   "metadata": {
    "collapsed": true
   },
   "outputs": [],
   "source": []
  },
  {
   "cell_type": "markdown",
   "metadata": {},
   "source": [
    "### Exercise 5  \n",
    "Write a function called `chop` that takes a list, modifies it by removing the first and last elements, and returns `None`.\n",
    "\n",
    "What is the difference between `middle` and `chop`? Sketch out the program state or take a look at each in Python Tutor."
   ]
  },
  {
   "cell_type": "code",
   "execution_count": 27,
   "metadata": {
    "collapsed": false
   },
   "outputs": [
    {
     "name": "stdout",
     "output_type": "stream",
     "text": [
      "None\n",
      "[2, 6]\n"
     ]
    }
   ],
   "source": [
    "def chop(list):\n",
    "    first = list[0]\n",
    "    last = list[-1]\n",
    "    list.remove(first)\n",
    "    list.remove(last)\n",
    "L = [1, 2, 6, 4]\n",
    "print chop(L)\n",
    "print L"
   ]
  },
  {
   "cell_type": "markdown",
   "metadata": {},
   "source": [
    "These programs are different because they use different functions to remove the elements. The return value from 'remove' is None. "
   ]
  },
  {
   "cell_type": "markdown",
   "metadata": {},
   "source": [
    "### Exercise 7  \n",
    "Two words are anagrams if you can rearrange the letters from one to spell the other. Write a function called `is_anagram` that takes two strings and returns `True` if they are anagrams."
   ]
  },
  {
   "cell_type": "code",
   "execution_count": 33,
   "metadata": {
    "collapsed": false
   },
   "outputs": [
    {
     "name": "stdout",
     "output_type": "stream",
     "text": [
      "True\n"
     ]
    }
   ],
   "source": [
    "def is_anagram(str1, str2):\n",
    "\n",
    "    #initial conditions\n",
    "    group1 = []\n",
    "    group2 = []\n",
    "    increment = 0\n",
    "    str1.lower()\n",
    "    str2.lower()\n",
    "    final_result = False\n",
    "    \n",
    "    #List rearranging\n",
    "    for char_group1 in str1:\n",
    "        group1.append(char_group1)\n",
    "    for char_group2 in str2:\n",
    "        group2.append(char_group2)\n",
    "    group1.sort()\n",
    "    group2.sort()\n",
    "\n",
    "    #removing spaces and periods (not sure if there's a more efficient way)\n",
    "    if \" \" in group1:\n",
    "        group1.remove(' ')\n",
    "    if \" \" in group2:\n",
    "        group2.remove(' ')\n",
    "    if \".\" in group1:\n",
    "        group1.remove('.')\n",
    "    if \".\" in group2:\n",
    "        group2.remove('.')\n",
    "    \n",
    "    \n",
    "    #Are they really the same?\n",
    "    if len(group1) == len(group2):\n",
    "        for element in group1:\n",
    "            one_result = (group1[increment] == group2[increment])\n",
    "            final_result = one_result or final_result\n",
    "            increment += 1\n",
    "    else:\n",
    "        final_result = False\n",
    "        \n",
    "    return final_result\n",
    "print is_anagram('Schoolmaster.', 'The Classroom')"
   ]
  },
  {
   "cell_type": "code",
   "execution_count": 31,
   "metadata": {
    "collapsed": false
   },
   "outputs": [
    {
     "name": "stdout",
     "output_type": "stream",
     "text": [
      "False\n",
      "True\n",
      "True\n"
     ]
    }
   ],
   "source": [
    "#An example that makes sense but doesn't quite work\n",
    "def is_anagram(o,t):\n",
    "    if o.strip(t) == '':\n",
    "        return True\n",
    "    else:\n",
    "        return False\n",
    "\n",
    "print is_anagram('banana','popcorn')\n",
    "print is_anagram('banana','nabana')\n",
    "print is_anagram('bananananana', 'banana') #not supposed to be true"
   ]
  },
  {
   "cell_type": "markdown",
   "metadata": {},
   "source": [
    "### Exercise 8  \n",
    "The (so-called) Birthday Paradox:\n",
    "1. Write a function called `has_duplicates` that takes a list and returns `True` if there is any element that appears more than once. It should not modify the original list.\n",
    "2. If there are 23 students in your class, what are the chances that two of you have the same birthday? You can estimate this probability by generating random samples of 23 birthdays and checking for matches. Hint: you can generate random birthdays with the randint function in the [random module](https://docs.python.org/2/library/random.html).\n",
    "\n",
    "You can read about this problem at http://en.wikipedia.org/wiki/Birthday_paradox, and you can download Allen's solution from http://thinkpython.com/code/birthday.py."
   ]
  },
  {
   "cell_type": "code",
   "execution_count": 82,
   "metadata": {
    "collapsed": false
   },
   "outputs": [
    {
     "name": "stdout",
     "output_type": "stream",
     "text": [
      "[17, 9, 13, 21, 8, 10, 9, 7, 20, 7, 6, 5, 6, 23, 22, 21, 19, 1, 18, 18, 6, 11, 17]\n",
      "True\n"
     ]
    }
   ],
   "source": [
    "#1:\n",
    "def has_duplicates(initial_list):\n",
    "    result = False #initial condition\n",
    "    if len(initial_list) in [1, 0]:\n",
    "        return False\n",
    "    else:\n",
    "        while len(initial_list) > 0:\n",
    "            if initial_list[0] in initial_list[1:]:\n",
    "                result = True\n",
    "                break\n",
    "            else:\n",
    "                initial_list = initial_list[1:]\n",
    "                has_duplicates(initial_list)\n",
    "\n",
    "\n",
    "    return result\n",
    "import random\n",
    "#2:\n",
    "birthdays = []\n",
    "while len(birthdays) < 23:\n",
    "    one_birthday = random.randint(1, 23)\n",
    "    birthdays.append(one_birthday)\n",
    "\n",
    "print birthdays\n",
    "print has_duplicates(birthdays)"
   ]
  },
  {
   "cell_type": "markdown",
   "metadata": {},
   "source": [
    "The Day 4 exercise (I wanted to show it off):"
   ]
  },
  {
   "cell_type": "code",
   "execution_count": null,
   "metadata": {
    "collapsed": true
   },
   "outputs": [],
   "source": [
    "#Class exercise, I solved it!! *pats back*\n",
    "def price(string):\n",
    "    list_prices = []\n",
    "    for char in string:\n",
    "        price = ord(char) - 96\n",
    "        list_prices.append(price)\n",
    "    return sum(list_prices)\n",
    "    \n",
    "print price('potato chips')"
   ]
  },
  {
   "cell_type": "code",
   "execution_count": 1,
   "metadata": {
    "collapsed": false
   },
   "outputs": [
    {
     "name": "stdout",
     "output_type": "stream",
     "text": [
      "[7]\n",
      "[7]\n"
     ]
    }
   ],
   "source": [
    "#Dealing with state diagrams:\n",
    "a = [5] #a points to 5\n",
    "b = [2]  #b points to 2\n",
    "a = b #a points to the list [2]\n",
    "b[0] = 7 #b is changed to [7], and then a changes to [7]\n",
    "print a\n",
    "print b\n",
    "\n",
    "#result = [7] for both times"
   ]
  },
  {
   "cell_type": "code",
   "execution_count": 3,
   "metadata": {
    "collapsed": false
   },
   "outputs": [
    {
     "name": "stdout",
     "output_type": "stream",
     "text": [
      "[2]\n",
      "[7]\n"
     ]
    }
   ],
   "source": [
    "#Dealing with state diagrams:\n",
    "a = [5] #a points to 5\n",
    "b = [2]  #b points to 2\n",
    "a = b #a points to the list [2]\n",
    "b = [7] #b is changed to [7], a new list that b is now referring to, but a still refers to [2]\n",
    "print a\n",
    "print b\n",
    "\n",
    "#result = [7] for both times"
   ]
  },
  {
   "cell_type": "code",
   "execution_count": 9,
   "metadata": {
    "collapsed": false
   },
   "outputs": [
    {
     "name": "stdout",
     "output_type": "stream",
     "text": [
      "(6, 3)\n"
     ]
    }
   ],
   "source": [
    "def swap(a, b):\n",
    "    t = b\n",
    "    b = a\n",
    "    a = t\n",
    "    return a, b\n",
    "a = 3\n",
    "b = 6\n",
    "\n",
    "print swap(a, b)\n",
    "\n",
    "#Doesn't work because the function doesn't return anything!"
   ]
  },
  {
   "cell_type": "code",
   "execution_count": 14,
   "metadata": {
    "collapsed": false
   },
   "outputs": [
    {
     "name": "stdout",
     "output_type": "stream",
     "text": [
      "[6, 3]\n"
     ]
    }
   ],
   "source": [
    "def swap(L):\n",
    "    t = L[1]\n",
    "    L[1] = L[0]\n",
    "    L[0] = t\n",
    "\n",
    "L = [3, 6]\n",
    "swap(L)\n",
    "print L"
   ]
  },
  {
   "cell_type": "code",
   "execution_count": 16,
   "metadata": {
    "collapsed": false
   },
   "outputs": [
    {
     "name": "stdout",
     "output_type": "stream",
     "text": [
      "None\n",
      "[]\n"
     ]
    }
   ],
   "source": [
    "def swap(L):\n",
    "    t = L[1]\n",
    "    L[1] = L[0]\n",
    "    L[0] = t\n",
    "\n",
    "L = []\n",
    "print swap([3, 6]) #Doesn't work, function only deals with L\n",
    "print L #Nothing helps to the L list"
   ]
  },
  {
   "cell_type": "markdown",
   "metadata": {},
   "source": [
    "### Challenge: Exercise 11 (optional)\n",
    "\n",
    "You should read [Chapter 9.1](http://www.greenteapress.com/thinkpython/html/thinkpython010.html) and do Exercise 1 first.\n",
    "\n",
    "To check whether a word is in the word list, you could use the `in` operator, but it would be relatively slow because it searches through the words in order (try it).\n",
    "\n",
    "Because the words are in alphabetical order, we can speed things up with a bisection search (also known as binary search), which is similar to what you do when you look a word up in the dictionary. You start in the middle and check to see whether the word you are looking for comes before the word in the middle of the list. If so, then you search the first half of the list the same way. Otherwise you search the second half.\n",
    "\n",
    "Either way, you cut the remaining search space in half. If the word list has 113,809 words, it will take about 17 steps to find the word or conclude that it’s not there.\n",
    "\n",
    "Write a function called `bisect` that takes a sorted list and a target value and returns the index of the value in the list, if it’s there, or `None` if it’s not.\n",
    "\n",
    "Or you could read the documentation of the `bisect` module and use that! Solution: http://thinkpython.com/code/inlist.py."
   ]
  },
  {
   "cell_type": "code",
   "execution_count": null,
   "metadata": {
    "collapsed": true
   },
   "outputs": [],
   "source": []
  },
  {
   "cell_type": "markdown",
   "metadata": {},
   "source": [
    "## Reading Journal feedback\n",
    "\n",
    "Have any comments on this Reading Journal? Feel free to leave them below and we'll read them when you submit your journal entry. This could include suggestions to improve the exercises, topics you'd like to see covered in class next time, or other feedback.\n",
    "\n",
    "If you have Python questions or run into problems while completing the reading, you should post them to Piazza instead so you can get a quick response before your journal is submitted."
   ]
  },
  {
   "cell_type": "markdown",
   "metadata": {},
   "source": [
    " "
   ]
  }
 ],
 "metadata": {
  "kernelspec": {
   "display_name": "Python 2",
   "language": "python",
   "name": "python2"
  },
  "language_info": {
   "codemirror_mode": {
    "name": "ipython",
    "version": 2
   },
   "file_extension": ".py",
   "mimetype": "text/x-python",
   "name": "python",
   "nbconvert_exporter": "python",
   "pygments_lexer": "ipython2",
   "version": "2.7.6"
  }
 },
 "nbformat": 4,
 "nbformat_minor": 0
}
